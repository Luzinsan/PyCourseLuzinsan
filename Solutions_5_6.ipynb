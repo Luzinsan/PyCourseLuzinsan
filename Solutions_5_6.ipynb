{
 "cells": [
  {
   "cell_type": "markdown",
   "id": "cf86d76b",
   "metadata": {},
   "source": [
    " ### 1. Fizz Buzz\n",
    "\n",
    " **Дано:** Число, как целочисленное (int).\n",
    " \n",
    " **Задание:** \n",
    "\n",
    "\"Fizz buzz\" это игра со словами, с помощью которой мы будем учить наших роботов делению. Давайте обучим компьютер.\n",
    "\n",
    "Вы должны написать программу, которая принимает положительное целое число и возвращает сл. значения.\n",
    "\n",
    "  1. \"Fizz Buzz\", если число делится на 3 и 5;\n",
    "  2. \"Fizz\", если число делится на 3;\n",
    "  3. \"Buzz\", если число делится на 5; \n",
    "\n",
    "Число, как строку для остальных случаев.\n",
    "     \n",
    " **Пример:**\n",
    " \n",
    "     x = 15, результат: \"Fizz Buzz\"\n",
    "     \n",
    "     x = 6, результат: \"Fizz\"     \n",
    " \n",
    "     x = 5, результат: \"Buzz\"   \n",
    "     \n",
    "     x = 7, результат: \"7\" \n"
   ]
  },
  {
   "cell_type": "code",
   "execution_count": 4,
   "id": "4f6a8f94",
   "metadata": {},
   "outputs": [],
   "source": [
    "def fizz_buzz(x):\n",
    "    if x % 3 == 0 and x % 5 == 0:\n",
    "        return \"Fizz Buzz\"\n",
    "    elif x % 3 == 0:\n",
    "        return \"Fizz\"\n",
    "    elif x % 5 == 0:\n",
    "        return \"Buzz\"\n",
    "    else: \n",
    "        return str(x)\n"
   ]
  },
  {
   "cell_type": "code",
   "execution_count": 5,
   "id": "d7d2e767",
   "metadata": {},
   "outputs": [
    {
     "name": "stdout",
     "output_type": "stream",
     "text": [
      "Введите целое число: 15\n",
      "Fizz Buzz\n",
      "Продолжить? (y/n)y\n",
      "Введите целое число: 6\n",
      "Fizz\n",
      "Продолжить? (y/n)y\n",
      "Введите целое число: 5\n",
      "Buzz\n",
      "Продолжить? (y/n)y\n",
      "Введите целое число: 7\n",
      "7\n",
      "Продолжить? (y/n)n\n"
     ]
    }
   ],
   "source": [
    "running = 'y'\n",
    "while running == 'y':\n",
    "    number = int(input(\"Введите целое число: \"))\n",
    "    print(fizz_buzz(number))\n",
    "    while True: \n",
    "        running = input(\"Продолжить? (y/n)\")\n",
    "        if running == 'y' or running == 'n':\n",
    "            break"
   ]
  },
  {
   "cell_type": "markdown",
   "id": "1ec1bf78",
   "metadata": {},
   "source": [
    "### 2. Оценка числа\n",
    "\n",
    " **Дано:** Число x.\n",
    " \n",
    " **Задание:** нужно написать программу, которая дает оценку заданному значению, используя следующие правила.\n",
    " \n",
    "   1. если x нечетное, то это \"Плохо\"\n",
    "   2. если x = [2, 5] и четное, то это \"Неплохо\"\n",
    "   3. если x = [6, 20] и четное, то это \"Так себе\"\n",
    "   4. если x > 20 и четное, то это \"Отлично\"\n",
    "\n",
    "     \n",
    " **Пример:**\n",
    " \n",
    "     x = 15, результат: \"Плохо\"\n",
    "     \n",
    "     x = 4, результат: \"Неплохо\"     \n",
    " \n",
    "     x = 8, результат: \"Так себе\"   \n",
    "     \n",
    "     x = 24, результат: \"Отлично\" \n"
   ]
  },
  {
   "cell_type": "code",
   "execution_count": 1,
   "id": "42db6929",
   "metadata": {},
   "outputs": [],
   "source": [
    "def mark(x):\n",
    "    if x % 2 == 1:\n",
    "        return \"Плохо\"\n",
    "    elif x >= 2 and x <= 5:\n",
    "        return \"Неплохо\"\n",
    "    elif x >= 6 and x <= 20:\n",
    "        return \"Так себе\"\n",
    "    elif x > 20:\n",
    "        return \"Отлично\"\n",
    "        "
   ]
  },
  {
   "cell_type": "code",
   "execution_count": 2,
   "id": "a46eacda",
   "metadata": {},
   "outputs": [
    {
     "name": "stdout",
     "output_type": "stream",
     "text": [
      "Введите целое число: 15\n",
      "Плохо\n",
      "Продолжить? (y/n)y\n",
      "Введите целое число: 4\n",
      "Неплохо\n",
      "Продолжить? (y/n)y\n",
      "Введите целое число: 8\n",
      "Так себе\n",
      "Продолжить? (y/n)y\n",
      "Введите целое число: 24\n",
      "Отлично\n",
      "Продолжить? (y/n)n\n"
     ]
    }
   ],
   "source": [
    "running = 'y'\n",
    "while running == 'y':\n",
    "    number = int(input(\"Введите целое число: \"))\n",
    "    print(mark(number))\n",
    "    while True: \n",
    "        running = input(\"Продолжить? (y/n)\")\n",
    "        if running == 'y' or running == 'n':\n",
    "            break"
   ]
  },
  {
   "cell_type": "markdown",
   "id": "a2b65fc2",
   "metadata": {},
   "source": [
    "### 3. Последовательность\n",
    " \n",
    " **Дано:** Число N = [1-9].\n",
    " \n",
    " **Задание:** нужно написать программу, которая выведет последовательность 123..N\n",
    "\n",
    "     \n",
    " **Пример:**\n",
    " \n",
    "     N = 3, результат: 123\n",
    "     \n",
    "     N = 9, результат: 123456789     \n",
    " \n",
    "     x = 1, результат: 1"
   ]
  },
  {
   "cell_type": "code",
   "execution_count": 3,
   "id": "7c722c59",
   "metadata": {},
   "outputs": [],
   "source": [
    "def int_to_seq(number: int):\n",
    "    list_of_digits = [str(i) for i in range(1,number+1)]\n",
    "    str_sequence = ''.join(list_of_digits)\n",
    "    return str_sequence"
   ]
  },
  {
   "cell_type": "code",
   "execution_count": 4,
   "id": "3d134cec",
   "metadata": {},
   "outputs": [
    {
     "name": "stdout",
     "output_type": "stream",
     "text": [
      "Введите число: 3\n",
      "123\n",
      "Введите число: 9\n",
      "123456789\n",
      "Введите число: 1\n",
      "1\n"
     ]
    }
   ],
   "source": [
    "for i in range(3):\n",
    "    number = int(input(\"Введите число: \"))\n",
    "    print(int_to_seq(number))"
   ]
  },
  {
   "cell_type": "markdown",
   "id": "325a2cd6",
   "metadata": {},
   "source": [
    "### 4. Секретное сообщение\n",
    " \n",
    " \"Где умный человек прячет лист? В лесу. Но что если леса нет? ... Он выращивает лес и прячет его там.\"\n",
    "-- Гилберт Кит Честертон\n",
    "\n",
    "Когда-нибудь пробовали отправить секретное сообщение кому-то не пользуясь услугами почты? Вы можете использовать газету, чтобы рассказать кому-то свой секрет. Даже если кто-то найдет ваше сообщение, легко отмахнуться и сказать что это паранойя и теория заговора. Один из самых простых способов спрятать ваше секретное сообщение это использовать заглавные буквы. Давайте найдем несколько таких секретных сообщений.\n",
    "\n",
    "\n",
    " **Дано:** Дан кусок текста (str).\n",
    " \n",
    " **Задание:** Соберите все заглавные буквы в одно слово в том порядке как они встречаются в куске текста.\n",
    " Подсказка: посмотрите внимательно на методы класса str.\n",
    "     \n",
    " **Пример:**\n",
    " \n",
    "     текст = \"How are you? Eh, ok. Low or Lower? Ohhh.\", если мы соберем все заглавные буквы, то получим сообщение \"HELLO\"."
   ]
  },
  {
   "cell_type": "code",
   "execution_count": 13,
   "id": "c4136c14",
   "metadata": {},
   "outputs": [],
   "source": [
    "def secret(letter: str):\n",
    "    letter = [i for i in letter if i == i.upper() and i.isalpha()]\n",
    "    return ''.join(letter)"
   ]
  },
  {
   "cell_type": "code",
   "execution_count": 14,
   "id": "2b010a61",
   "metadata": {},
   "outputs": [
    {
     "name": "stdout",
     "output_type": "stream",
     "text": [
      "Letter: How are you? Eh, ok. Low or Lower? Ohhh.\n",
      "HELLO\n"
     ]
    }
   ],
   "source": [
    "text = input(\"Letter: \")\n",
    "print(secret(text))"
   ]
  },
  {
   "cell_type": "markdown",
   "id": "694f480b",
   "metadata": {},
   "source": [
    "### [Junior] 5. Три слова\n",
    " \n",
    "Давайте научим наших роботов отличать слова от чисел.\n",
    "\n",
    "Дана строка со словами и числами, разделенными пробелами (один пробел между словами и/или числами). Слова состоят только из букв. \n",
    "\n",
    " **Дано:** Строка со словами (str).\n",
    " \n",
    " **Задание:** напишите программу, которая проверяет есть ли в исходной строке три слова подряд. Для примера, в строке \"start 5 one two three 7 end\" есть три слова подряд.\n",
    "     \n",
    " **Примеры:**\n",
    "   \n",
    "   text = \"Hello World hello\", результат: True\n",
    "   \n",
    "   text = \"He is 123 man\", результат: False\n",
    "   \n",
    "   text = \"1 2 3 4\", результат: False"
   ]
  },
  {
   "cell_type": "code",
   "execution_count": 45,
   "id": "755860dd",
   "metadata": {
    "scrolled": true
   },
   "outputs": [],
   "source": [
    "def have_3_words_isalpha(text: str) -> str:\n",
    "    list_str = text.split()\n",
    "    list_3_words_isalpha = [list(map(str.isalpha, list_str[i:i+3])) for i in range(len(list_str) - 2)]\n",
    "    sum_alpha_words = [sum(i) for i in list_3_words_isalpha]\n",
    "    have_3_words_inarow = sum_alpha_words.count(3)\n",
    "    return have_3_words_inarow > 0"
   ]
  },
  {
   "cell_type": "code",
   "execution_count": 57,
   "id": "88f94d54",
   "metadata": {},
   "outputs": [
    {
     "name": "stdout",
     "output_type": "stream",
     "text": [
      "text = \"start 5 one two three 7 end\n",
      ", результат: True\"\n"
     ]
    }
   ],
   "source": [
    "text = input(\"text = \\\"\")\n",
    "result = f', результат: {have_3_words_isalpha(text)}\"'\n",
    "print(result)"
   ]
  },
  {
   "cell_type": "markdown",
   "id": "65465ebd",
   "metadata": {},
   "source": [
    "### [Junior+] 6. Мир захватили левши\n",
    " \n",
    "На протяжении веков, левши страдали от дискриминации в мире, созданном для правшей.\" \n",
    "Santrock, John W. (2008). Motor, Sensory, and Perceptual Development.\n",
    "\n",
    "\"Большинство людей (70-95%) правши, меньшинство (5-30 %) левши, и неопределеное число людей вероятно лучше всего охарактеризовать, как \"симметричные\".\" \n",
    "Scientific American. www.scientificamerican.com\n",
    "\n",
    "Один робот был занят простой задачей: объединить последовательность строк в одно выражение для создания инструкции по обходу корабля. Но робот был левша и зачастую шутил и запутывал своих друзей правшей.\n",
    "\n",
    " **Дано:** последовательность строк.\n",
    " \n",
    " **Задание:** вы должны объединить эти строки в блок текста, разделив изначальные строки запятыми. В качестве шутки над праворукими роботами, вы должны заменить все вхождения слова \"right\" на слова \"left\", даже если это часть другого слова. Все строки даны в нижнем регистре.\n",
    "     \n",
    " **Примеры:**\n",
    "   \n",
    "   [\"left\", \"right\", \"left\", \"stop\"], результат: \"left,left,left,stop\"\n",
    "   \n",
    "   [\"bright aright\", \"ok\"], результат: \"bleft aleft,ok\"\n",
    "   \n",
    "   [\"enough\", \"jokes\"], результат: \"enough,jokes\""
   ]
  },
  {
   "cell_type": "code",
   "execution_count": null,
   "id": "c90080ac",
   "metadata": {},
   "outputs": [],
   "source": []
  }
 ],
 "metadata": {
  "kernelspec": {
   "display_name": "Python 3 (ipykernel)",
   "language": "python",
   "name": "python3"
  },
  "language_info": {
   "codemirror_mode": {
    "name": "ipython",
    "version": 3
   },
   "file_extension": ".py",
   "mimetype": "text/x-python",
   "name": "python",
   "nbconvert_exporter": "python",
   "pygments_lexer": "ipython3",
   "version": "3.10.7"
  }
 },
 "nbformat": 4,
 "nbformat_minor": 5
}
