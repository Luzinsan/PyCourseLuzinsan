{
  "cells": [
    {
      "cell_type": "markdown",
      "metadata": {
        "id": "view-in-github",
        "colab_type": "text"
      },
      "source": [
        "<a href=\"https://colab.research.google.com/github/Luzinsan/PyCourseLuzinsan/blob/main/Practice1.ipynb\" target=\"_parent\"><img src=\"https://colab.research.google.com/assets/colab-badge.svg\" alt=\"Open In Colab\"/></a>"
      ]
    },
    {
      "cell_type": "markdown",
      "metadata": {
        "id": "jWUQZ7olS4Ts"
      },
      "source": [
        "## Задания"
      ]
    },
    {
      "cell_type": "markdown",
      "metadata": {
        "id": "d97xcXfZTIea"
      },
      "source": [
        "**Задача 1.**\n",
        "\n",
        "Даны четыре действительных числа: x1, y1, x2, y2. Напишите функцию distance(x1, y1, x2, y2), вычисляющая евклидово расстояние ( https://ru.wikipedia.org/wiki/%D0%95%D0%B2%D0%BA%D0%BB%D0%B8%D0%B4%D0%BE%D0%B2%D0%B0_%D0%BC%D0%B5%D1%82%D1%80%D0%B8%D0%BA%D0%B0 ) между точкой (x1,y1) и (x2,y2)."
      ]
    },
    {
      "cell_type": "code",
      "execution_count": null,
      "metadata": {
        "id": "FwoN8YrfS8S9",
        "colab": {
          "base_uri": "https://localhost:8080/"
        },
        "outputId": "f76099e9-2b20-48b9-b34d-d297fc1a3b66"
      },
      "outputs": [
        {
          "output_type": "stream",
          "name": "stdout",
          "text": [
            "3\n",
            "7\n",
            "3\n",
            "9\n",
            "2.0\n"
          ]
        }
      ],
      "source": [
        "from math import sqrt\n",
        "\n",
        "def distance(x1, y1, x2, y2):\n",
        "  return sqrt(pow((x2-x1), 2) + pow((y2-y1), 2))\n",
        "\n",
        "\n",
        "x1, y1, x2, y2 = [float(input()) for i in range(4)]\n",
        "print(distance(x1, y1, x2, y2))"
      ]
    },
    {
      "cell_type": "markdown",
      "metadata": {
        "id": "04v60qczU_fi"
      },
      "source": [
        "**Задача 2.**\n",
        "\n",
        "Написать функцию season(month), принимающую 1 аргумент — номер месяца (от 1 до 12), которая присваивает глобальной переменной s время года, которому этот месяц принадлежит (зима, весна, лето или осень)."
      ]
    },
    {
      "cell_type": "code",
      "execution_count": null,
      "metadata": {
        "id": "j56j5EvKWsy1",
        "colab": {
          "base_uri": "https://localhost:8080/"
        },
        "outputId": "ebd3d485-acc3-4418-e2f0-6cd9804b56eb"
      },
      "outputs": [
        {
          "output_type": "stream",
          "name": "stdout",
          "text": [
            "11\n",
            "осень\n"
          ]
        }
      ],
      "source": [
        "s = 1\n",
        "\n",
        "def season(month):\n",
        "  global s\n",
        "  if month<=2 or month==12:\n",
        "    s = 'зима'\n",
        "  elif month<=5:\n",
        "    s = 'весна'\n",
        "  elif month<=8:\n",
        "    s = 'лето'\n",
        "  else:\n",
        "    s = 'осень'\n",
        "\n",
        "season(int(input()))\n",
        "print(s)"
      ]
    },
    {
      "cell_type": "markdown",
      "metadata": {
        "id": "Xo4YtE9XWwJ-"
      },
      "source": [
        "**Задача 3.**\n",
        "\n",
        "Написать функцию is_prime, принимающую 1 аргумент — число от 0 до 1000, и возвращающую True, если оно простое, и False - иначе."
      ]
    },
    {
      "cell_type": "code",
      "execution_count": null,
      "metadata": {
        "id": "JaI9rY6cW0YA"
      },
      "outputs": [],
      "source": [
        "def is_prime(number: int):\n",
        "  if number==0:\n",
        "    return None\n",
        "  for i in range(2, int(sqrt(number))):\n",
        "    if number % i == 0:\n",
        "      return False\n",
        "  return True\n",
        "\n",
        "for i in range(5):\n",
        "  print(f\"{i} is prime: {is_prime(i)}\")  \n",
        "print(is_prime(int(input())))"
      ]
    },
    {
      "cell_type": "markdown",
      "metadata": {
        "id": "siBlTugkX5Il"
      },
      "source": [
        "**Задача 4.**\n",
        "\n",
        "Написать функцию reverse_list(lst), которая принимает в качестве аргумента список и возвращаем его в перевернутом виде.\n",
        "\n",
        "Например,\n",
        "- исходный список:  8, 1, 0, 4\n",
        "- полученный список: 4, 0, 1, 8\n",
        "\n",
        "Использовать встроенные функции Python нельзя. "
      ]
    },
    {
      "cell_type": "code",
      "execution_count": null,
      "metadata": {
        "id": "6YqPaxokYT1_",
        "colab": {
          "base_uri": "https://localhost:8080/"
        },
        "outputId": "f04412d1-74ce-42fe-f357-863ace603f60"
      },
      "outputs": [
        {
          "output_type": "stream",
          "name": "stdout",
          "text": [
            "8, 1, 0, 4\n",
            "['4', '0', '1', '8']\n"
          ]
        }
      ],
      "source": [
        "def referense_list(lst: list):\n",
        "  return lst[::-1]\n",
        "\n",
        "print(referense_list(input().split(', ')))"
      ]
    },
    {
      "cell_type": "markdown",
      "metadata": {
        "id": "4UUcGbHWr3wn"
      },
      "source": [
        "**Задача 5.**\n",
        "\n",
        "Распечатайте с 4 по 8 символ фразы \"Привет мир!\" приведенные к верхнему регистру."
      ]
    },
    {
      "cell_type": "code",
      "execution_count": null,
      "metadata": {
        "id": "ICMD_GzvsETR",
        "colab": {
          "base_uri": "https://localhost:8080/"
        },
        "outputId": "2cb01d78-35da-4f84-9f9f-46fa7f8baee4"
      },
      "outputs": [
        {
          "output_type": "stream",
          "name": "stdout",
          "text": [
            "ЕТ МИ\n"
          ]
        }
      ],
      "source": [
        "hello_world = 'Привет мир!'\n",
        "strip_world = hello_world[4:9].upper()\n",
        "print(strip_world)"
      ]
    },
    {
      "cell_type": "markdown",
      "metadata": {
        "id": "Ei25f1pVsQLt"
      },
      "source": [
        "**Задача 6.**\n",
        "\n",
        "Напишите код, который все элементы массива x с нечетными индексами переставит в обратном порядке.\n",
        "\n",
        "Т.е. если x = [0, 1, 2, 3, 4, 5, 6, 7, 8, 9], то код должен получать [0, 9, 2, 7, 4, 5, 6, 3, 8, 1]"
      ]
    },
    {
      "cell_type": "code",
      "execution_count": null,
      "metadata": {
        "id": "o93nN1cJsXNy",
        "colab": {
          "base_uri": "https://localhost:8080/"
        },
        "outputId": "2c003ed5-ccd7-4a54-c91f-10b75db89bb3"
      },
      "outputs": [
        {
          "output_type": "stream",
          "name": "stdout",
          "text": [
            "[0, 9, 2, 7, 4, 5, 6, 3, 8, 1]\n"
          ]
        }
      ],
      "source": [
        "x = [0, 1, 2, 3, 4, 5, 6, 7, 8, 9]\n",
        "x[1::2] = x[-1::-2]\n",
        "print(x)"
      ]
    },
    {
      "cell_type": "markdown",
      "metadata": {
        "id": "-qcaQystsXYY"
      },
      "source": [
        "**Задача 7.**\n",
        "\n",
        "Напишите цикл, который выводит все числа от 0 до 500, делящиеся на 7, если в них есть цифра 8."
      ]
    },
    {
      "cell_type": "code",
      "execution_count": null,
      "metadata": {
        "id": "5-d0zkldsuvr",
        "colab": {
          "base_uri": "https://localhost:8080/"
        },
        "outputId": "1f5217c2-d680-4b1a-c76d-f05e23f1d039"
      },
      "outputs": [
        {
          "output_type": "execute_result",
          "data": {
            "text/plain": [
              "[28, 84, 98, 168, 182, 189, 238, 280, 287, 308, 378, 385, 448, 483]"
            ]
          },
          "metadata": {},
          "execution_count": 67
        }
      ],
      "source": [
        "[i for i in range(500) if i%7==0 and str(i).find('8')!=-1]"
      ]
    },
    {
      "cell_type": "markdown",
      "metadata": {
        "id": "CTWMY6f9su7P"
      },
      "source": [
        "**Задача 8.**\n",
        "\n",
        "На вход функция more_than_five(lst) получает список из целых чисел. \n",
        "Результатом работы функции должен стать новый список, в котором содержатся только те числа, которые больше 10 по модулю."
      ]
    },
    {
      "cell_type": "code",
      "execution_count": null,
      "metadata": {
        "id": "ChE1X9wvtMzQ",
        "colab": {
          "base_uri": "https://localhost:8080/"
        },
        "outputId": "128b26a6-7000-4bb1-94c2-d08fbe9ea497"
      },
      "outputs": [
        {
          "output_type": "stream",
          "name": "stdout",
          "text": [
            "[-14, 29, -204]\n"
          ]
        }
      ],
      "source": [
        "def more_than_five(lst: list):\n",
        "  return [i for i in lst if abs(i)>10]\n",
        "\n",
        "lst = [1,5,0,-1,4,-14,29,-204]\n",
        "print(more_than_five(lst))"
      ]
    },
    {
      "cell_type": "markdown",
      "metadata": {
        "id": "vTu7Ibz2CesK"
      },
      "source": [
        "# Задания"
      ]
    },
    {
      "cell_type": "code",
      "execution_count": null,
      "metadata": {
        "id": "MGvbhlGHCiJR"
      },
      "outputs": [],
      "source": [
        "import numpy as np\n",
        "from random import randint"
      ]
    },
    {
      "cell_type": "markdown",
      "metadata": {
        "id": "EobX-nHRDeT5"
      },
      "source": [
        "**Задача 1.**\n",
        "\n",
        "Создать матрицу размером `10х10` с 0 внутри, и 1 на границах. Например для `3х3`.\n",
        "\n",
        "```\n",
        "1 1 1\n",
        "1 0 1\n",
        "1 1 1\n",
        "```"
      ]
    },
    {
      "cell_type": "code",
      "source": [
        "size = 10\n",
        "task1 = np.zeros((size,size))\n",
        "mask = np.full_like(task1, True, dtype=bool)\n",
        "mask[1:-1, 1:-1] = False\n",
        "task1[mask] = 1.\n",
        "task1"
      ],
      "metadata": {
        "colab": {
          "base_uri": "https://localhost:8080/"
        },
        "id": "w6vjbLOAV96L",
        "outputId": "c1a0a861-45a8-46a2-f9b8-1121c158169c"
      },
      "execution_count": null,
      "outputs": [
        {
          "output_type": "execute_result",
          "data": {
            "text/plain": [
              "array([[1., 1., 1., 1., 1., 1., 1., 1., 1., 1.],\n",
              "       [1., 0., 0., 0., 0., 0., 0., 0., 0., 1.],\n",
              "       [1., 0., 0., 0., 0., 0., 0., 0., 0., 1.],\n",
              "       [1., 0., 0., 0., 0., 0., 0., 0., 0., 1.],\n",
              "       [1., 0., 0., 0., 0., 0., 0., 0., 0., 1.],\n",
              "       [1., 0., 0., 0., 0., 0., 0., 0., 0., 1.],\n",
              "       [1., 0., 0., 0., 0., 0., 0., 0., 0., 1.],\n",
              "       [1., 0., 0., 0., 0., 0., 0., 0., 0., 1.],\n",
              "       [1., 0., 0., 0., 0., 0., 0., 0., 0., 1.],\n",
              "       [1., 1., 1., 1., 1., 1., 1., 1., 1., 1.]])"
            ]
          },
          "metadata": {},
          "execution_count": 115
        }
      ]
    },
    {
      "cell_type": "markdown",
      "metadata": {
        "id": "vnY0gsMOD45W"
      },
      "source": [
        "**Задача 2.**\n",
        "\n",
        "Создать 5x5 матрицу с 1,2,3,4 над диагональю. Все остальные элементы - 0."
      ]
    },
    {
      "cell_type": "code",
      "execution_count": null,
      "metadata": {
        "id": "tnKHSJApEY4w",
        "colab": {
          "base_uri": "https://localhost:8080/"
        },
        "outputId": "20a3bd00-c75d-4fa8-e7e2-c3a92aaf4c66"
      },
      "outputs": [
        {
          "output_type": "execute_result",
          "data": {
            "text/plain": [
              "array([[0, 1, 0, 0, 0],\n",
              "       [0, 0, 2, 0, 0],\n",
              "       [0, 0, 0, 3, 0],\n",
              "       [0, 0, 0, 0, 4],\n",
              "       [0, 0, 0, 0, 0]])"
            ]
          },
          "metadata": {},
          "execution_count": 119
        }
      ],
      "source": [
        "task2 = np.diag(np.arange(1,5), k=1)\n",
        "task2"
      ]
    },
    {
      "cell_type": "code",
      "source": [
        "rng = np.random.default_rng()"
      ],
      "metadata": {
        "id": "gUuh8FyCtTKe"
      },
      "execution_count": null,
      "outputs": []
    },
    {
      "cell_type": "markdown",
      "metadata": {
        "id": "7R26cYEXEsWb"
      },
      "source": [
        "**Задача 3.**\n",
        "\n",
        "Создайте случайную матрицу и вычтите из каждой строки среднее."
      ]
    },
    {
      "cell_type": "code",
      "execution_count": null,
      "metadata": {
        "id": "eNDIKZPrUbZG",
        "colab": {
          "base_uri": "https://localhost:8080/"
        },
        "outputId": "92a16aba-138d-4bd1-9ac0-7b6f883363be"
      },
      "outputs": [
        {
          "output_type": "stream",
          "name": "stdout",
          "text": [
            "[[2 4 7]\n",
            " [1 5 4]\n",
            " [6 9 8]]\n",
            "mean (axis=all) = 5.111111111111111\n"
          ]
        },
        {
          "output_type": "execute_result",
          "data": {
            "text/plain": [
              "array([[-3.11111111, -1.11111111,  1.88888889],\n",
              "       [-4.11111111, -0.11111111, -1.11111111],\n",
              "       [ 0.88888889,  3.88888889,  2.88888889]])"
            ]
          },
          "metadata": {},
          "execution_count": 134
        }
      ],
      "source": [
        "task3 = rng.integers(1,10,(3,3))\n",
        "print(task3, f'mean (axis=all) = {task3.mean()}', sep='\\n')\n",
        "task3 = task3 - task3.mean()\n",
        "task3"
      ]
    },
    {
      "cell_type": "markdown",
      "metadata": {
        "id": "CzAqzs7ClCSn"
      },
      "source": [
        "**Задача 4.**\n",
        "\n",
        "Написать функцию, принимающую на вход массив и меняющую знак у элементов, значения которых между 3 и 8. Протестировать на нескольких заданных вами массивах."
      ]
    },
    {
      "cell_type": "code",
      "execution_count": null,
      "metadata": {
        "id": "63Ki9lyulzec"
      },
      "outputs": [],
      "source": [
        "def reflect(matrix, value_from, value_to):\n",
        "  matrix[np.logical_and(matrix > value_from, matrix < value_to)] *= -1\n",
        "  return matrix"
      ]
    },
    {
      "cell_type": "code",
      "source": [
        "probe = 5\n",
        "value_from, value_to = 3, 8\n",
        "for i in range(probe):\n",
        "  task4 = rng.integers(1,10,(3,3))\n",
        "  print(task4)\n",
        "  print(f'reflected \\\n",
        "          \\n\\r{reflect(task4,value_from, value_to)}\\n')"
      ],
      "metadata": {
        "colab": {
          "base_uri": "https://localhost:8080/"
        },
        "id": "9pugGbe_fvmm",
        "outputId": "6481f996-3b8c-4d65-b43a-b7216cebb847"
      },
      "execution_count": null,
      "outputs": [
        {
          "output_type": "stream",
          "name": "stdout",
          "text": [
            "[[8 2 2]\n",
            " [5 5 4]\n",
            " [1 3 6]]\n",
            "reflected           \n",
            "\r[[ 8  2  2]\n",
            " [-5 -5 -4]\n",
            " [ 1  3 -6]]\n",
            "\n",
            "[[5 8 5]\n",
            " [4 3 6]\n",
            " [7 6 1]]\n",
            "reflected           \n",
            "\r[[-5  8 -5]\n",
            " [-4  3 -6]\n",
            " [-7 -6  1]]\n",
            "\n",
            "[[6 8 6]\n",
            " [5 7 4]\n",
            " [4 6 2]]\n",
            "reflected           \n",
            "\r[[-6  8 -6]\n",
            " [-5 -7 -4]\n",
            " [-4 -6  2]]\n",
            "\n",
            "[[4 6 4]\n",
            " [4 5 5]\n",
            " [8 5 8]]\n",
            "reflected           \n",
            "\r[[-4 -6 -4]\n",
            " [-4 -5 -5]\n",
            " [ 8 -5  8]]\n",
            "\n",
            "[[4 6 6]\n",
            " [8 2 6]\n",
            " [4 4 3]]\n",
            "reflected           \n",
            "\r[[-4 -6 -6]\n",
            " [ 8  2 -6]\n",
            " [-4 -4  3]]\n",
            "\n"
          ]
        }
      ]
    },
    {
      "cell_type": "markdown",
      "metadata": {
        "id": "ha_XRvz7l9rx"
      },
      "source": [
        "**Задача 4.**\n",
        "\n",
        "Написать функцию, принимающую на вход массив и вычитающую среднее из каждой строки в матрице. Протестировать на нескольких заданных вами примерах."
      ]
    },
    {
      "cell_type": "code",
      "execution_count": null,
      "metadata": {
        "id": "9nkzwep7mB5h"
      },
      "outputs": [],
      "source": [
        "def sub_mean(matrix):\n",
        "  return np.array([matrix[i]-matrix.mean(axis=1)[i] for i in range(matrix.shape[0])])"
      ]
    },
    {
      "cell_type": "code",
      "source": [
        "probe = 5\n",
        "for i in range(probe):\n",
        "  task4_2 = rng.integers(1,10,(3,3))\n",
        "  print(task4_2, f'mean (axis=1) = {task4_2.mean(axis=1)}', sep='\\n')\n",
        "  print(f'converted \\\n",
        "          \\n\\r{sub_mean(task4_2)}\\n')"
      ],
      "metadata": {
        "colab": {
          "base_uri": "https://localhost:8080/"
        },
        "id": "MCcT7Ik1zUyF",
        "outputId": "4fb38563-9299-4a58-860f-32b08b5c1b6e"
      },
      "execution_count": null,
      "outputs": [
        {
          "output_type": "stream",
          "name": "stdout",
          "text": [
            "[[3 1 8]\n",
            " [1 3 9]\n",
            " [7 3 6]]\n",
            "mean (axis=1) = [4.         4.33333333 5.33333333]\n",
            "converted           \n",
            "\r[[-1.         -3.          4.        ]\n",
            " [-3.33333333 -1.33333333  4.66666667]\n",
            " [ 1.66666667 -2.33333333  0.66666667]]\n",
            "\n",
            "[[2 6 3]\n",
            " [4 3 1]\n",
            " [7 5 7]]\n",
            "mean (axis=1) = [3.66666667 2.66666667 6.33333333]\n",
            "converted           \n",
            "\r[[-1.66666667  2.33333333 -0.66666667]\n",
            " [ 1.33333333  0.33333333 -1.66666667]\n",
            " [ 0.66666667 -1.33333333  0.66666667]]\n",
            "\n",
            "[[6 9 2]\n",
            " [4 9 9]\n",
            " [4 5 8]]\n",
            "mean (axis=1) = [5.66666667 7.33333333 5.66666667]\n",
            "converted           \n",
            "\r[[ 0.33333333  3.33333333 -3.66666667]\n",
            " [-3.33333333  1.66666667  1.66666667]\n",
            " [-1.66666667 -0.66666667  2.33333333]]\n",
            "\n",
            "[[1 3 4]\n",
            " [5 4 1]\n",
            " [7 7 1]]\n",
            "mean (axis=1) = [2.66666667 3.33333333 5.        ]\n",
            "converted           \n",
            "\r[[-1.66666667  0.33333333  1.33333333]\n",
            " [ 1.66666667  0.66666667 -2.33333333]\n",
            " [ 2.          2.         -4.        ]]\n",
            "\n",
            "[[7 9 5]\n",
            " [4 9 9]\n",
            " [6 3 4]]\n",
            "mean (axis=1) = [7.         7.33333333 4.33333333]\n",
            "converted           \n",
            "\r[[ 0.          2.         -2.        ]\n",
            " [-3.33333333  1.66666667  1.66666667]\n",
            " [ 1.66666667 -1.33333333 -0.33333333]]\n",
            "\n"
          ]
        }
      ]
    },
    {
      "cell_type": "markdown",
      "metadata": {
        "id": "MJJ33mtstr-a"
      },
      "source": [
        "**Задача 5.**\n",
        "\n",
        "Дан вектор [1, 2, 3, 4, 5], построить новый вектор с тремя нулями между каждым значением."
      ]
    },
    {
      "cell_type": "code",
      "execution_count": null,
      "metadata": {
        "id": "UZLtKFY80D6f",
        "colab": {
          "base_uri": "https://localhost:8080/"
        },
        "outputId": "3c0fdaec-7150-4a30-fbcc-8aedf2632ac3"
      },
      "outputs": [
        {
          "output_type": "execute_result",
          "data": {
            "text/plain": [
              "array([1, 0, 0, 0, 2, 0, 0, 0, 3, 0, 0, 0, 4, 0, 0, 0, 5])"
            ]
          },
          "metadata": {},
          "execution_count": 400
        }
      ],
      "source": [
        "def with_zeros(vector, num_zeros):\n",
        "  zeros_array = np.zeros(num_zeros, dtype=int)\n",
        "  matrix_with_zeros = [np.concatenate([zeros_array, vector[i][np.newaxis]]) for i in range(1,vector.size)]\n",
        "  edited_vector =np.concatenate([[1], np.array(matrix_with_zeros).flatten()])\n",
        "  return edited_vector\n",
        "\n",
        "task5 = np.array([1, 2, 3, 4, 5], dtype=int)\n",
        "with_zeros(task5, 3)"
      ]
    },
    {
      "cell_type": "markdown",
      "metadata": {
        "id": "KU7g7UVs0EDr"
      },
      "source": [
        "**Задача 6.**\n",
        "\n",
        "\n",
        "Написать функцию, принимающую на вход матрицу MxN и меняющую 2 любые строки в матрице. Протестировать на нескольких заданных вами примерах."
      ]
    },
    {
      "cell_type": "code",
      "execution_count": null,
      "metadata": {
        "id": "xMzdfDFuKwFw"
      },
      "outputs": [],
      "source": [
        "def swap_rows(matrix, ind_row1, ind_row2):\n",
        "  matrix[ind_row1], matrix[ind_row2] = matrix[ind_row2].copy(), matrix[ind_row1].copy()\n",
        "  return matrix"
      ]
    },
    {
      "cell_type": "code",
      "source": [
        "probe = 5\n",
        "rows, columns = rng.integers(1,10,2)\n",
        "print(f\"shape=({rows}, {columns})\")\n",
        "for i in range(probe):\n",
        "  task6 = rng.integers(1,10,(rows,columns))\n",
        "  row1, row2 = rng.integers(0,rows,2)\n",
        "  print(task6, f'row_1= {row1}\\nrow_2= {row2}', sep='\\n')\n",
        "  print(f'swapped \\\n",
        "          \\n\\r{swap_rows(task6, row1, row2)}\\n')"
      ],
      "metadata": {
        "colab": {
          "base_uri": "https://localhost:8080/"
        },
        "id": "3PJ5KGA9_p2Z",
        "outputId": "b2734b8c-3e8d-4df6-e8ee-b3098a1e6f95"
      },
      "execution_count": null,
      "outputs": [
        {
          "output_type": "stream",
          "name": "stdout",
          "text": [
            "shape=(6, 9)\n",
            "[[9 2 6 3 7 5 1 1 9]\n",
            " [6 9 6 2 3 3 4 8 8]\n",
            " [2 7 4 7 4 6 7 1 7]\n",
            " [8 8 3 1 4 3 4 6 4]\n",
            " [6 4 7 1 6 1 3 8 3]\n",
            " [4 6 1 1 8 9 2 4 9]]\n",
            "row_1= 5\n",
            "row_2= 4\n",
            "swapped           \n",
            "\r[[9 2 6 3 7 5 1 1 9]\n",
            " [6 9 6 2 3 3 4 8 8]\n",
            " [2 7 4 7 4 6 7 1 7]\n",
            " [8 8 3 1 4 3 4 6 4]\n",
            " [4 6 1 1 8 9 2 4 9]\n",
            " [6 4 7 1 6 1 3 8 3]]\n",
            "\n",
            "[[6 3 6 2 9 3 8 5 6]\n",
            " [1 2 4 7 8 6 1 9 1]\n",
            " [4 5 7 4 4 5 5 3 8]\n",
            " [8 8 2 3 2 3 8 7 6]\n",
            " [8 4 1 9 2 9 1 1 1]\n",
            " [4 7 2 5 3 3 9 9 7]]\n",
            "row_1= 2\n",
            "row_2= 3\n",
            "swapped           \n",
            "\r[[6 3 6 2 9 3 8 5 6]\n",
            " [1 2 4 7 8 6 1 9 1]\n",
            " [8 8 2 3 2 3 8 7 6]\n",
            " [4 5 7 4 4 5 5 3 8]\n",
            " [8 4 1 9 2 9 1 1 1]\n",
            " [4 7 2 5 3 3 9 9 7]]\n",
            "\n",
            "[[7 4 6 7 4 6 1 2 2]\n",
            " [4 3 6 9 2 6 6 4 6]\n",
            " [7 1 2 7 7 4 7 7 4]\n",
            " [3 1 7 9 5 1 1 3 5]\n",
            " [7 3 6 5 7 6 7 3 1]\n",
            " [4 5 1 3 5 8 8 5 6]]\n",
            "row_1= 5\n",
            "row_2= 2\n",
            "swapped           \n",
            "\r[[7 4 6 7 4 6 1 2 2]\n",
            " [4 3 6 9 2 6 6 4 6]\n",
            " [4 5 1 3 5 8 8 5 6]\n",
            " [3 1 7 9 5 1 1 3 5]\n",
            " [7 3 6 5 7 6 7 3 1]\n",
            " [7 1 2 7 7 4 7 7 4]]\n",
            "\n",
            "[[7 4 3 1 3 4 7 9 9]\n",
            " [4 7 4 5 6 3 4 6 9]\n",
            " [1 1 5 6 6 9 5 2 9]\n",
            " [1 2 4 3 2 1 4 5 6]\n",
            " [3 7 1 3 9 3 6 3 5]\n",
            " [4 9 5 2 1 7 1 1 1]]\n",
            "row_1= 5\n",
            "row_2= 4\n",
            "swapped           \n",
            "\r[[7 4 3 1 3 4 7 9 9]\n",
            " [4 7 4 5 6 3 4 6 9]\n",
            " [1 1 5 6 6 9 5 2 9]\n",
            " [1 2 4 3 2 1 4 5 6]\n",
            " [4 9 5 2 1 7 1 1 1]\n",
            " [3 7 1 3 9 3 6 3 5]]\n",
            "\n",
            "[[5 6 1 1 8 2 2 3 7]\n",
            " [4 1 4 2 5 5 1 8 8]\n",
            " [8 4 6 7 4 2 7 7 5]\n",
            " [5 8 3 2 1 8 6 9 8]\n",
            " [1 4 7 7 8 6 4 6 5]\n",
            " [5 3 9 8 1 4 7 8 3]]\n",
            "row_1= 4\n",
            "row_2= 1\n",
            "swapped           \n",
            "\r[[5 6 1 1 8 2 2 3 7]\n",
            " [1 4 7 7 8 6 4 6 5]\n",
            " [8 4 6 7 4 2 7 7 5]\n",
            " [5 8 3 2 1 8 6 9 8]\n",
            " [4 1 4 2 5 5 1 8 8]\n",
            " [5 3 9 8 1 4 7 8 3]]\n",
            "\n"
          ]
        }
      ]
    },
    {
      "cell_type": "markdown",
      "metadata": {
        "id": "Kiva3bYH0Z9S"
      },
      "source": [
        "**Задача 7.**\n",
        "\n",
        "\n",
        "Написать функцию, принимающую на вход одномерный массив и возвращающую наиболее частое значение в массиве и частоту его встречи. Протестировать на нескольких заданных вами примерах."
      ]
    },
    {
      "cell_type": "code",
      "execution_count": null,
      "metadata": {
        "id": "Fmnb7-e70YdF"
      },
      "outputs": [],
      "source": [
        "def max_frequency(matrix):\n",
        "  unique, counts = np.unique(matrix, return_counts=True)\n",
        "  print(unique, counts)\n",
        "  return unique[counts.argmax()], counts.max()"
      ]
    },
    {
      "cell_type": "code",
      "source": [
        "probe = 5\n",
        "for i in range(probe):\n",
        "  length = randint(2,30)\n",
        "  task7 = rng.integers(1,10,length)\n",
        "  print(task7, f'length= {length}', sep='\\n')\n",
        "  value, frequency=max_frequency(task7)\n",
        "  print(f'value={value},frequency={frequency}\\n')"
      ],
      "metadata": {
        "colab": {
          "base_uri": "https://localhost:8080/"
        },
        "id": "WnLkz6ErG3UU",
        "outputId": "b6eb2cd5-8868-4c12-d7bd-075e5705e86c"
      },
      "execution_count": null,
      "outputs": [
        {
          "output_type": "stream",
          "name": "stdout",
          "text": [
            "[7 7 4 2 9 8 6 6 9 4 5 1 9 5 2 1 6 9 6 8 3 7]\n",
            "length= 22\n",
            "[1 2 3 4 5 6 7 8 9] [2 2 1 2 2 4 3 2 4]\n",
            "value=6,frequency=4\n",
            "\n",
            "[2 6 4 3 5 6 4 7 4 5 2 3 1 1 9 2 2 6]\n",
            "length= 18\n",
            "[1 2 3 4 5 6 7 9] [2 4 2 3 2 3 1 1]\n",
            "value=2,frequency=4\n",
            "\n",
            "[6 3 4 6 1 5 1 5 1 7 6 7 9 6 4 4 8 9 6 6 2 7 6 1 5 4 7 2 6 3]\n",
            "length= 30\n",
            "[1 2 3 4 5 6 7 8 9] [4 2 2 4 3 8 4 1 2]\n",
            "value=6,frequency=8\n",
            "\n",
            "[3 3 3 6 3 3 3 2 2 7 9 8 9 2 7 6 5 2 8 4 5 3 1 4 1 9 8 5 3 4]\n",
            "length= 30\n",
            "[1 2 3 4 5 6 7 8 9] [2 4 8 3 3 2 2 3 3]\n",
            "value=3,frequency=8\n",
            "\n",
            "[8 8 1 1 8 4 7 7]\n",
            "length= 8\n",
            "[1 4 7 8] [2 1 2 3]\n",
            "value=8,frequency=3\n",
            "\n"
          ]
        }
      ]
    },
    {
      "cell_type": "markdown",
      "metadata": {
        "id": "CA6upOsg0vuY"
      },
      "source": [
        "**Задача 8.** \n",
        "\n",
        "Написать функцию, принимающую на вход  массив 16x16 и считающую сумму по блокам 4x4. Протестировать на нескольких заданных вами примерах."
      ]
    },
    {
      "cell_type": "code",
      "execution_count": null,
      "metadata": {
        "id": "biNnN0Gb056o"
      },
      "outputs": [],
      "source": [
        "def convolution(matrix, block_rows, block_columns):\n",
        "  return np.array([[matrix[block_rows*row:(row+1)*block_rows, block*block_columns:(block+1)*block_columns].sum() \\\n",
        "          for block in range(block_rows)] \\\n",
        "          for row in range(block_columns)])"
      ]
    },
    {
      "cell_type": "code",
      "source": [
        "rows, columns = 16, 16\n",
        "block_rows, block_columns = 4, 4\n",
        "\n",
        "probe = 1\n",
        "for i in range(probe):\n",
        "  task8 = rng.integers(0,2,(rows,columns))\n",
        "  print(task8)\n",
        "  print(f'convolution=\\n{convolution(task8, block_rows, block_columns)}\\n')"
      ],
      "metadata": {
        "colab": {
          "base_uri": "https://localhost:8080/"
        },
        "id": "Ju39MwItQzJq",
        "outputId": "5a054ed3-dbc7-4678-cb2a-f72172c18287"
      },
      "execution_count": null,
      "outputs": [
        {
          "output_type": "stream",
          "name": "stdout",
          "text": [
            "[[1 0 0 1 1 0 1 1 0 0 0 1 0 0 1 1]\n",
            " [1 1 1 0 0 1 0 0 1 0 1 0 0 0 0 0]\n",
            " [0 0 1 0 1 0 1 0 0 0 1 1 0 1 1 0]\n",
            " [1 1 0 1 0 1 1 1 1 1 1 1 0 1 1 0]\n",
            " [0 1 1 1 1 1 1 1 1 0 1 1 0 0 1 1]\n",
            " [1 1 1 0 1 0 0 1 0 1 1 0 1 1 0 0]\n",
            " [0 1 0 0 1 1 1 1 1 0 0 1 0 0 0 1]\n",
            " [0 0 0 0 1 1 0 1 1 1 1 0 1 1 0 0]\n",
            " [0 0 0 0 0 1 1 0 0 1 0 0 1 1 0 0]\n",
            " [1 0 0 0 1 0 0 1 1 1 1 0 1 0 1 0]\n",
            " [1 0 0 0 1 1 1 1 1 0 0 0 0 1 0 1]\n",
            " [0 1 1 1 1 0 0 0 1 1 0 1 1 1 1 1]\n",
            " [1 0 0 0 0 1 1 1 1 1 0 1 0 0 1 0]\n",
            " [1 1 1 1 1 0 0 1 1 0 0 1 0 0 1 0]\n",
            " [0 0 0 1 0 0 1 0 0 0 0 0 1 1 1 0]\n",
            " [1 1 1 1 0 0 0 1 0 0 1 1 0 0 0 0]]\n",
            "convolution=\n",
            "[[ 9  9  9  6]\n",
            " [ 7 13 10  7]\n",
            " [ 5  9  8 10]\n",
            " [10  7  7  5]]\n",
            "\n"
          ]
        }
      ]
    },
    {
      "cell_type": "markdown",
      "metadata": {
        "id": "a5jYWrLl06BY"
      },
      "source": [
        "**Задача 9.**\n",
        "\n",
        "Написать функцию, принимающую на вход матрицу и возвращающую n наибольших значений в массиве. n вводится с клавиатуры. Протестировать на нескольких заданных вами примерах."
      ]
    },
    {
      "cell_type": "code",
      "execution_count": null,
      "metadata": {
        "id": "WflOzZRy1BRy"
      },
      "outputs": [],
      "source": [
        "def max_values(matrix, number):\n",
        "  list_values = matrix.flatten()\n",
        "  list_values.sort()\n",
        "  return list_values[-number:]"
      ]
    },
    {
      "cell_type": "code",
      "source": [
        "probe = 1\n",
        "for i in range(probe):\n",
        "  task9 = rng.integers(0,10,(3,3))\n",
        "  print(task9)\n",
        "  n = int(input(\"Number of maximum values: \"))\n",
        "  print(f'{n} max values={max_values(task9, n)}\\n')"
      ],
      "metadata": {
        "colab": {
          "base_uri": "https://localhost:8080/"
        },
        "id": "EefrzplUTwFF",
        "outputId": "f0beb9e1-98dd-4531-9b81-38830e722dcd"
      },
      "execution_count": null,
      "outputs": [
        {
          "output_type": "stream",
          "name": "stdout",
          "text": [
            "[[2 8 5]\n",
            " [8 4 7]\n",
            " [1 8 9]]\n",
            "Number of maximum values: 3\n",
            "3 max values=[8 8 9]\n",
            "\n"
          ]
        }
      ]
    },
    {
      "cell_type": "markdown",
      "metadata": {
        "id": "UbB8AuQA1BY0"
      },
      "source": [
        "**Задача 10.**\n",
        "\n",
        "Написать функцию, принимающую на вход 10x3 матрица и находящую строки из неравных значений (например [2,2,3]). Протестировать на нескольких заданных вами примерах."
      ]
    },
    {
      "cell_type": "code",
      "execution_count": null,
      "metadata": {
        "id": "YOKf8gMB1JCS"
      },
      "outputs": [],
      "source": [
        "def non_unique_rows(matrix):\n",
        "  indices = [i for i in range(matrix.shape[0]) if len(np.unique(matrix[i])) != 1]\n",
        "  return indices, matrix[indices]"
      ]
    },
    {
      "cell_type": "code",
      "source": [
        "probe = 1\n",
        "for i in range(probe):\n",
        "  task10 = rng.integers(0,2,(10,3))\n",
        "  print(task10)\n",
        "  indices, rows = non_unique_rows(task10)\n",
        "  print(f'not unique rows=\\nindices={indices}\\nrows=\\n{rows}\\n')"
      ],
      "metadata": {
        "colab": {
          "base_uri": "https://localhost:8080/"
        },
        "id": "UfUCrrdhXazJ",
        "outputId": "d4574055-cf38-48bc-e154-6212009d5c90"
      },
      "execution_count": null,
      "outputs": [
        {
          "output_type": "stream",
          "name": "stdout",
          "text": [
            "[[0 0 1]\n",
            " [0 0 1]\n",
            " [0 1 0]\n",
            " [0 0 1]\n",
            " [0 0 0]\n",
            " [1 0 1]\n",
            " [1 1 0]\n",
            " [0 1 0]\n",
            " [1 1 1]\n",
            " [0 1 0]]\n",
            "not unique rows=\n",
            "indices=[0, 1, 2, 3, 5, 6, 7, 9]\n",
            "rows=\n",
            "[[0 0 1]\n",
            " [0 0 1]\n",
            " [0 1 0]\n",
            " [0 0 1]\n",
            " [1 0 1]\n",
            " [1 1 0]\n",
            " [0 1 0]\n",
            " [0 1 0]]\n",
            "\n"
          ]
        }
      ]
    },
    {
      "cell_type": "markdown",
      "metadata": {
        "id": "kDOcG70_1JJi"
      },
      "source": [
        "**Задача 11.**\n",
        "\n",
        "Написать функцию, принимающую на вход двумерный массив и находящую все различные строки. Протестировать на нескольких заданных вами примерах."
      ]
    },
    {
      "cell_type": "code",
      "execution_count": null,
      "metadata": {
        "id": "Z370pCG41mUU"
      },
      "outputs": [],
      "source": [
        "def unique_rows(matrix):\n",
        "  return np.unique(matrix, axis=0)"
      ]
    },
    {
      "cell_type": "code",
      "source": [
        "probe = 1\n",
        "for i in range(probe):\n",
        "  task11 = rng.integers(0,2,(10,3))\n",
        "  print(task11)\n",
        "  print(f'unique rows=\\n{unique_rows(task11)}\\n')"
      ],
      "metadata": {
        "colab": {
          "base_uri": "https://localhost:8080/"
        },
        "id": "K6Zk6SNfmDS3",
        "outputId": "8860b2b3-90ee-4c72-f928-188df6d2cf70"
      },
      "execution_count": null,
      "outputs": [
        {
          "output_type": "stream",
          "name": "stdout",
          "text": [
            "[[0 0 0]\n",
            " [0 0 1]\n",
            " [0 1 1]\n",
            " [0 0 1]\n",
            " [0 0 0]\n",
            " [0 0 1]\n",
            " [1 1 0]\n",
            " [0 1 0]\n",
            " [1 1 1]\n",
            " [1 1 1]]\n",
            "unique rows=\n",
            "[[0 0 0]\n",
            " [0 0 1]\n",
            " [0 1 0]\n",
            " [0 1 1]\n",
            " [1 1 0]\n",
            " [1 1 1]]\n",
            "\n"
          ]
        }
      ]
    },
    {
      "cell_type": "markdown",
      "metadata": {
        "id": "xLnW1uIL1mc_"
      },
      "source": [
        "**Задача 12.**\n",
        "\n",
        "Написать функцию, принимающую на вход два вектора одинакого размера и считающую расстояние между векторами. Протестировать на нескольких заданных вами примерах."
      ]
    },
    {
      "cell_type": "code",
      "execution_count": null,
      "metadata": {
        "id": "yYu-Qco323yW"
      },
      "outputs": [],
      "source": [
        "def distance(vec1, vec2):\n",
        "  diff = vec2-vec1\n",
        "  return np.sqrt(np.dot(diff,diff))"
      ]
    },
    {
      "cell_type": "code",
      "source": [
        "probe = 3\n",
        "for i in range(probe):\n",
        "  vec1, vec2 = rng.integers(0,10,3), rng.integers(0,10,3)  \n",
        "  print(f'vec1={vec1};\\tvec2={vec2}\\ndistance={distance(vec1,vec2)}\\n')"
      ],
      "metadata": {
        "colab": {
          "base_uri": "https://localhost:8080/"
        },
        "id": "kNPJRCcCsHKb",
        "outputId": "58c40dc5-dd23-4cc4-fc7c-4fb972d407e4"
      },
      "execution_count": null,
      "outputs": [
        {
          "output_type": "stream",
          "name": "stdout",
          "text": [
            "vec1=[3 1 1];\tvec2=[1 1 8]\n",
            "distance=7.280109889280518\n",
            "\n",
            "vec1=[6 0 1];\tvec2=[2 9 0]\n",
            "distance=9.899494936611665\n",
            "\n",
            "vec1=[6 3 2];\tvec2=[6 1 6]\n",
            "distance=4.47213595499958\n",
            "\n"
          ]
        }
      ]
    },
    {
      "cell_type": "markdown",
      "metadata": {
        "id": "jcl3nZ-Y236p"
      },
      "source": [
        "**Задача 13.**\n",
        "\n",
        "Написать функцию, принимающую на вход два вектора одинакого размера и находящую косинус угла между векторами. Протестировать на нескольких заданных вами примерах."
      ]
    },
    {
      "cell_type": "code",
      "execution_count": null,
      "metadata": {
        "id": "GjM3s2YN3NEY"
      },
      "outputs": [],
      "source": [
        "from numpy.linalg import norm\n",
        "def cos_arr(vec1, vec2):\n",
        "  return np.dot(vec1, vec2)/(norm(vec1) * norm(vec2))"
      ]
    },
    {
      "cell_type": "code",
      "source": [
        "probe = 3\n",
        "for i in range(probe):\n",
        "  vec1, vec2 = rng.integers(0,10,3), rng.integers(0,10,3)  \n",
        "  print(f'vec1={vec1};\\tvec2={vec2}\\ncos={cos_arr(vec1,vec2)}\\n')"
      ],
      "metadata": {
        "colab": {
          "base_uri": "https://localhost:8080/"
        },
        "id": "P0zg5nBd1QbM",
        "outputId": "56c05996-48f0-4158-e033-583a5616e081"
      },
      "execution_count": null,
      "outputs": [
        {
          "output_type": "stream",
          "name": "stdout",
          "text": [
            "vec1=[2 5 8];\tvec2=[8 0 2]\n",
            "cos=0.4023963638622855\n",
            "\n",
            "vec1=[2 3 0];\tvec2=[3 8 0]\n",
            "cos=0.9738412097417933\n",
            "\n",
            "vec1=[0 5 3];\tvec2=[5 3 6]\n",
            "cos=0.6764340508948999\n",
            "\n"
          ]
        }
      ]
    },
    {
      "cell_type": "markdown",
      "metadata": {
        "id": "NOGrxa9o3WLZ"
      },
      "source": [
        "**Задача 14.**\n",
        "\n",
        "Написать функцию, принимающую на вход вектор A содержит float числа как больше, так и меньше нуля.\n",
        "\n",
        "Функция должна округлить их до целых и результат записать в глобальную переменную Z. Округление должно быть \"от нуля\", т.е.:\n",
        "\n",
        "- положительные числа округляем всегда вверх до целого\n",
        "- отрицательные числа округляем всегда вниз до целого\n",
        "- 0 остаётся 0\n",
        "\n",
        " Протестировать на нескольких заданных вами примерах.\n"
      ]
    },
    {
      "cell_type": "code",
      "execution_count": null,
      "metadata": {
        "id": "x-RztsfF37Yt"
      },
      "outputs": [],
      "source": [
        "def round_from_zero(vector):\n",
        "  return np.ceil(vector)"
      ]
    },
    {
      "cell_type": "code",
      "source": [
        "probe = 3\n",
        "for i in range(probe):\n",
        "  task14 = rng.uniform(-10, 10, 10)  \n",
        "  print(f'vector={task14}\\nrounded={round_from_zero(task14)}\\n')"
      ],
      "metadata": {
        "colab": {
          "base_uri": "https://localhost:8080/"
        },
        "id": "XploFF7F83P9",
        "outputId": "05c10202-4a47-4b48-b1e1-9c490ad8f648"
      },
      "execution_count": null,
      "outputs": [
        {
          "output_type": "stream",
          "name": "stdout",
          "text": [
            "vector=[ 9.98472097  2.64463862 -0.65996409 -1.5582992  -1.52836959 -4.28189464\n",
            "  3.95161311  9.17696811  9.09506909  7.26503071]\n",
            "rounded=[10.  3. -0. -1. -1. -4.  4. 10. 10.  8.]\n",
            "\n",
            "vector=[ 4.84724431 -9.65795287 -6.38616166  3.03687485 -8.11598961  8.22032792\n",
            "  4.19617271 -8.78148784  7.22529688 -5.1659069 ]\n",
            "rounded=[ 5. -9. -6.  4. -8.  9.  5. -8.  8. -5.]\n",
            "\n",
            "vector=[ 1.43514553 -5.42043783  8.07756877  2.59744728  0.65456408 -8.25574912\n",
            "  7.18655941  9.75175622  2.57843909  0.22660125]\n",
            "rounded=[ 2. -5.  9.  3.  1. -8.  8. 10.  3.  1.]\n",
            "\n"
          ]
        }
      ]
    },
    {
      "cell_type": "markdown",
      "metadata": {
        "id": "6V2Z2SNX37jT"
      },
      "source": [
        "**Задача 15.**\n",
        "\n",
        "Написать функцию, принимающую на вход 2 вектора целых чисел A и B.\n",
        "\n",
        "Функция должна находить числа, встречающиеся в обоих векторах и добавлять их по возрастанию в глобальную переменную - вектор Z.\n",
        "\n",
        "*Если пересечений нет, то вектор Z будет пустым*.\n",
        "\n",
        " Протестировать на нескольких заданных вами примерах."
      ]
    },
    {
      "cell_type": "code",
      "execution_count": null,
      "metadata": {
        "id": "ThxIR2zN4PFr"
      },
      "outputs": [],
      "source": [
        "def combing(vec1, vec2):\n",
        "  return np.unique(vec1[np.in1d(vec1, vec2)])\n",
        "  # return np.intersect1d(vec1, vec2)"
      ]
    },
    {
      "cell_type": "code",
      "source": [
        "probe = 3\n",
        "n = 10\n",
        "for i in range(probe):\n",
        "  vec1, vec2 = rng.integers(0,10,n), rng.integers(0,10,n)  \n",
        "  print(f'vec1={vec1};\\tvec2={vec2}\\ncombing={combing(vec1,vec2)}\\n')"
      ],
      "metadata": {
        "colab": {
          "base_uri": "https://localhost:8080/"
        },
        "id": "Et8sYMiSBL8b",
        "outputId": "57a5ce7c-2e0e-4e2d-cd88-97062a474971"
      },
      "execution_count": null,
      "outputs": [
        {
          "output_type": "stream",
          "name": "stdout",
          "text": [
            "vec1=[1 6 9 5 1 5 4 7 6 9];\tvec2=[5 5 9 4 3 1 0 7 7 6]\n",
            "combing=[1 4 5 6 7 9]\n",
            "\n",
            "vec1=[4 7 5 0 2 7 3 0 9 6];\tvec2=[5 0 7 2 0 4 3 5 6 6]\n",
            "combing=[0 2 3 4 5 6 7]\n",
            "\n",
            "vec1=[0 0 2 9 9 6 9 0 5 0];\tvec2=[3 0 8 0 8 4 0 8 8 5]\n",
            "combing=[0 5]\n",
            "\n"
          ]
        }
      ]
    },
    {
      "cell_type": "markdown",
      "metadata": {
        "id": "GeUr4BbI433N"
      },
      "source": [
        "**Задача 16.**\n",
        "\n",
        "Написать функцию, принимающую на вход вектор и возвращающую максимальный элемент в векторе среди элементов, перед которыми стоит 0. \n",
        "\n",
        "Например для:\n",
        "\n",
        "`x = np.array([6, 2, 0, 3, 0, 0, 5, 7, 0])`\n",
        "\n",
        "Ответ:\n",
        "5"
      ]
    },
    {
      "cell_type": "code",
      "execution_count": null,
      "metadata": {
        "id": "TVHVE4RB50Ti"
      },
      "outputs": [],
      "source": [
        "def max_after_zero(vector):\n",
        "  list_after_zero = [value for counter, value in enumerate(vector[1:]) if vector[counter]==0]\n",
        "  print(list_after_zero)\n",
        "  if list_after_zero:\n",
        "    return max(list_after_zero)\n",
        "  else:\n",
        "     return \n",
        "  # return np.max(vector[1:][(vector==0)[:-1]])"
      ]
    },
    {
      "cell_type": "code",
      "source": [
        "n = 10\n",
        "vec2 = rng.integers(0,3,n)\n",
        "print(vec2)\n",
        "max_after_zero(vec2)"
      ],
      "metadata": {
        "colab": {
          "base_uri": "https://localhost:8080/"
        },
        "id": "CzrGl-j6NMP3",
        "outputId": "ea10bc5a-9168-49ac-b65f-c56fc27ba2be"
      },
      "execution_count": null,
      "outputs": [
        {
          "output_type": "stream",
          "name": "stdout",
          "text": [
            "[2 2 2 2 1 2 0 0 2 2]\n",
            "[0, 2]\n"
          ]
        },
        {
          "output_type": "execute_result",
          "data": {
            "text/plain": [
              "2"
            ]
          },
          "metadata": {},
          "execution_count": 514
        }
      ]
    },
    {
      "cell_type": "markdown",
      "metadata": {
        "id": "3w6cbF5m438U"
      },
      "source": [
        "**Задача 17.**\n",
        "\n",
        "Написать функцию, принимающую на вход матрицу 5х3 и считающую длину каждого вектора в матрице (строка) и ищущую самый длинный вектор, вернуть его координаты и длину.\n",
        "\n",
        "Как выглядит матрица:\n",
        "\n",
        "```   \n",
        "     | x | y | z |\n",
        "     | 1 | 2 | 3 |\n",
        "     | 3 | 4 | 1 |\n",
        "     | ...       |\n",
        "```"
      ]
    },
    {
      "cell_type": "code",
      "source": [
        "from numpy.linalg import norm\n",
        "\n",
        "def max_norm_vector(matrix):\n",
        "  norms = np.array([norm(row) for row in matrix])\n",
        "  print(norms)\n",
        "  return norms.max(), matrix[norms.argmax()]"
      ],
      "metadata": {
        "id": "3cFkJaKDRokW"
      },
      "execution_count": null,
      "outputs": []
    },
    {
      "cell_type": "code",
      "source": [
        "task17 = rng.integers(0,3,(5,3))\n",
        "print(task17)\n",
        "print(max_norm_vector(task17))"
      ],
      "metadata": {
        "colab": {
          "base_uri": "https://localhost:8080/"
        },
        "id": "yilBHmJUTjOu",
        "outputId": "5bbcf799-fc79-4295-de10-1b54458b8eba"
      },
      "execution_count": null,
      "outputs": [
        {
          "output_type": "stream",
          "name": "stdout",
          "text": [
            "[[1 1 1]\n",
            " [0 0 2]\n",
            " [1 2 1]\n",
            " [0 2 0]\n",
            " [0 0 1]]\n",
            "[1.73205081 2.         2.44948974 2.         1.        ]\n",
            "(2.449489742783178, array([1, 2, 1]))\n"
          ]
        }
      ]
    }
  ],
  "metadata": {
    "colab": {
      "collapsed_sections": [],
      "provenance": [],
      "include_colab_link": true
    },
    "kernelspec": {
      "display_name": "Python 3 (ipykernel)",
      "language": "python",
      "name": "python3"
    },
    "language_info": {
      "codemirror_mode": {
        "name": "ipython",
        "version": 3
      },
      "file_extension": ".py",
      "mimetype": "text/x-python",
      "name": "python",
      "nbconvert_exporter": "python",
      "pygments_lexer": "ipython3",
      "version": "3.10.7"
    },
    "vscode": {
      "interpreter": {
        "hash": "df89a35c3dacc890248c9eaf1af78674261a72605dca20e1e0ec28f2b99ee593"
      }
    }
  },
  "nbformat": 4,
  "nbformat_minor": 0
}