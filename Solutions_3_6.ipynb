{
 "cells": [
  {
   "cell_type": "markdown",
   "id": "b8b393d7",
   "metadata": {},
   "source": [
    "# 3.6 Задачи"
   ]
  },
  {
   "cell_type": "markdown",
   "id": "4ae4107d",
   "metadata": {},
   "source": [
    "#### 1. Welcome to Python\n",
    "Дано: имя и фамилия.\n",
    "\n",
    "Задание: написать программу, которая будет приветствовать нового человека в мире Python. Текст приветсвия: Hello NAME SURNAME! You just delved into Python. Great start!\n",
    "\n",
    "Пример: Hello Ibrahim Petrov! You just delved into Python. Great start!"
   ]
  },
  {
   "cell_type": "code",
   "execution_count": 1,
   "id": "023c7db3",
   "metadata": {},
   "outputs": [
    {
     "name": "stdout",
     "output_type": "stream",
     "text": [
      "Please, enter the name and surname through a space: Anastasia Luzinsan\n",
      "Hello Anastasia Luzinsan! You just delved into Python. Great start!\n"
     ]
    }
   ],
   "source": [
    "def welcome_to_python(name, surname):\n",
    "    print(f'Hello {name} {surname}! You just delved into Python. Great start!')\n",
    "\n",
    "\n",
    "name, surname = input(\"Please, enter the name and surname through a space: \").split()\n",
    "welcome_to_python(name, surname)"
   ]
  },
  {
   "cell_type": "markdown",
   "id": "74c72566",
   "metadata": {},
   "source": [
    "#### 2. Python art\n",
    "Дано: маркер (символ) и толщина фигуры.\n",
    "\n",
    "Задание: написать программу, которая будет отображать заданную фигуру.\n",
    "\n",
    "Пример: Маркер = H, толщина 5."
   ]
  },
  {
   "cell_type": "code",
   "execution_count": 11,
   "id": "ae575d0d",
   "metadata": {},
   "outputs": [
    {
     "name": "stdout",
     "output_type": "stream",
     "text": [
      "Please, enter the symbol: G\n",
      "Then, enter the width of figure: 7\n",
      "      G       \n",
      "     GGG      \n",
      "    GGGGG     \n",
      "   GGGGGGG    \n",
      "  GGGGGGGGG   \n",
      " GGGGGGGGGGG  \n",
      "GGGGGGGGGGGGG \n",
      "   GGGGGGG                     GGGGGGG   \n",
      "   GGGGGGG                     GGGGGGG   \n",
      "   GGGGGGG                     GGGGGGG   \n",
      "   GGGGGGG                     GGGGGGG   \n",
      "   GGGGGGG                     GGGGGGG   \n",
      "   GGGGGGG                     GGGGGGG   \n",
      "   GGGGGGG                     GGGGGGG   \n",
      "   GGGGGGG                     GGGGGGG   \n",
      "   GGGGGGGGGGGGGGGGGGGGGGGGGGGGGGGGGGG   \n",
      "   GGGGGGGGGGGGGGGGGGGGGGGGGGGGGGGGGGG   \n",
      "   GGGGGGGGGGGGGGGGGGGGGGGGGGGGGGGGGGG   \n",
      "   GGGGGGGGGGGGGGGGGGGGGGGGGGGGGGGGGGG   \n",
      "   GGGGGGGGGGGGGGGGGGGGGGGGGGGGGGGGGGG   \n",
      "   GGGGGGG                     GGGGGGG   \n",
      "   GGGGGGG                     GGGGGGG   \n",
      "   GGGGGGG                     GGGGGGG   \n",
      "   GGGGGGG                     GGGGGGG   \n",
      "   GGGGGGG                     GGGGGGG   \n",
      "   GGGGGGG                     GGGGGGG   \n",
      "   GGGGGGG                     GGGGGGG   \n",
      "   GGGGGGG                     GGGGGGG   \n",
      "                            GGGGGGGGGGGGG \n",
      "                             GGGGGGGGGGG  \n",
      "                              GGGGGGGGG   \n",
      "                               GGGGGGG    \n",
      "                                GGGGG     \n",
      "                                 GGG      \n",
      "                                  G       \n"
     ]
    }
   ],
   "source": [
    "def hat_state(marker, width, state=\"straight\"):\n",
    "    if state == 'straight':\n",
    "        [print( f\"{marker * (length+length-1):^{width*2}}\") for length in range(1, width+1)]\n",
    "    elif state == 'inverted':\n",
    "        [print( f\"{' ' * (width*5 - width)}\"\n",
    "                f\"{marker * (length+length-1):^{width*2}}\") for length in range(width, 0, -1)]\n",
    "        \n",
    "def columns(marker, width):\n",
    "    [print(f\"{ (marker * width):^{width*2 - 1}}\"\n",
    "       f\"{' ' * (width*2 + 1)}\"\n",
    "       f\"{ (marker * width):^{width*2 - 1}}\")\n",
    "         for length in range(1, width+2)]\n",
    "\n",
    "def bridge(marker, width):\n",
    "    [print(f\"{marker * (width*5):^{width*5 + width - 1}}\") for length in range(1, width-1)]\n",
    "    \n",
    "if __name__ == \"__main__\":\n",
    "    #marker = 'H'\n",
    "    #weight = 5\n",
    "    marker = input(\"Please, enter the symbol: \")\n",
    "    width = int(input(\"Then, enter the width of figure: \"))\n",
    "    hat_state(marker, width, 'straight')\n",
    "    columns(marker, width)\n",
    "    bridge(marker, width)\n",
    "    columns(marker, width)\n",
    "    hat_state(marker, width, 'inverted')"
   ]
  },
  {
   "cell_type": "markdown",
   "id": "f15d5be1",
   "metadata": {},
   "source": [
    "#### 3. Заголовок\n",
    "Дано: текст любой длины.\n",
    "\n",
    "Задание: написать программу, которая выведет заголовок, используя заданный текст. Подсказка используйте метод title.\n",
    "\n",
    "Пример: text = 'hello world'; результат = Hello World"
   ]
  },
  {
   "cell_type": "code",
   "execution_count": 12,
   "id": "3d52599c",
   "metadata": {},
   "outputs": [
    {
     "name": "stdout",
     "output_type": "stream",
     "text": [
      "Please, enter the title: hello python and world!\n",
      "Hello Python And World!\n"
     ]
    }
   ],
   "source": [
    "def header(text):\n",
    "    print(text.title())\n",
    "\n",
    "text = input(\"Please, enter the title: \")\n",
    "header(text)"
   ]
  },
  {
   "cell_type": "markdown",
   "id": "de9e3944",
   "metadata": {},
   "source": [
    "#### 4. Форматированный вывод денежной суммы\n",
    "Дано: денежная сумма (amount > 0).\n",
    "\n",
    "Задание: написать программу, которая распечатает число в принятом денежном формате XXX,XXX.XX.\n",
    "\n",
    "Пример: amount = 100500.157; результат = 100,500.16"
   ]
  },
  {
   "cell_type": "code",
   "execution_count": 13,
   "id": "164829be",
   "metadata": {},
   "outputs": [
    {
     "name": "stdout",
     "output_type": "stream",
     "text": [
      "Please, enter the amount: 255464526.65423654\n",
      "255,464,526.65\n"
     ]
    }
   ],
   "source": [
    "def formatted_cash_output(amount):\n",
    "    print(\"{:,.2f}\".format(amount))\n",
    "    \n",
    "amount = float(input(\"Please, enter the amount: \"))\n",
    "formatted_cash_output(amount)"
   ]
  },
  {
   "cell_type": "markdown",
   "id": "d6d53e81",
   "metadata": {},
   "source": [
    "#### 5. Дизайнер ковриков\n",
    "Дизайнер составил шаблон домашних ковриков. Для массового выпуска ковриков ему нужно уметь быстро составлять макет произвольного размера. Известно, что длина коврика всегда в 3 раза больше, чем его ширина (*W = 3 * H*).\n",
    "\n",
    "Дано: ширина коврика.\n",
    "\n",
    "Задание: написать программу, которая будет составлять макет коврика для его дальнейшего производства."
   ]
  },
  {
   "cell_type": "raw",
   "id": "5a40d8b1",
   "metadata": {},
   "source": [
    "    Примеры:\n",
    "    Size: 7 x 21 \n",
    "    ---------.|.---------\n",
    "    ------.|..|..|.------\n",
    "    ---.|..|..|..|..|.---\n",
    "    -------WELCOME-------\n",
    "    ---.|..|..|..|..|.---\n",
    "    ------.|..|..|.------\n",
    "    ---------.|.---------\n",
    "    \n",
    "    Size: 11 x 33\n",
    "    ---------------.|.---------------\n",
    "    ------------.|..|..|.------------\n",
    "    ---------.|..|..|..|..|.---------\n",
    "    ------.|..|..|..|..|..|..|.------\n",
    "    ---.|..|..|..|..|..|..|..|..|.---\n",
    "    -------------WELCOME-------------\n",
    "    ---.|..|..|..|..|..|..|..|..|.---\n",
    "    ------.|..|..|..|..|..|..|.------\n",
    "    ---------.|..|..|..|..|.---------\n",
    "    ------------.|..|..|.------------\n",
    "    ---------------.|.---------------"
   ]
  },
  {
   "cell_type": "code",
   "execution_count": 14,
   "id": "24171565",
   "metadata": {},
   "outputs": [
    {
     "name": "stdout",
     "output_type": "stream",
     "text": [
      "Please, enter the hight of carpet: 10\n",
      "Rug size was standardized...\n",
      "Size: 11 x 33\n",
      "---------------.|.---------------\n",
      "------------.|..|..|.------------\n",
      "---------.|..|..|..|..|.---------\n",
      "------.|..|..|..|..|..|..|.------\n",
      "---.|..|..|..|..|..|..|..|..|.---\n",
      "-------------WELCOME-------------\n",
      "---.|..|..|..|..|..|..|..|..|.---\n",
      "------.|..|..|..|..|..|..|.------\n",
      "---------.|..|..|..|..|.---------\n",
      "------------.|..|..|.------------\n",
      "---------------.|.---------------\n"
     ]
    },
    {
     "data": {
      "text/plain": [
       "[None, None, None, None, None]"
      ]
     },
     "execution_count": 14,
     "metadata": {},
     "output_type": "execute_result"
    }
   ],
   "source": [
    "#hight = 13\n",
    "#width = 3 * hight\n",
    "hight = int(input(\"Please, enter the hight of carpet: \"))\n",
    "if hight%2==0:\n",
    "    print(\"Rug size was standardized...\")\n",
    "    hight += 1\n",
    "width = 3 * hight\n",
    "print(f\"Size: {hight} x {width}\")\n",
    "[print(f\"{'.|.' * row:-^{width}}\") for row in range(1, hight,2)]\n",
    "print('WELCOME'.center(width, '-'))\n",
    "[print(f\"{'.|.' * row:-^{width}}\") for row in range(hight-2, 0, -2)]"
   ]
  },
  {
   "cell_type": "markdown",
   "id": "b6f89df8",
   "metadata": {},
   "source": [
    "#### 6. Произведение цифр\n",
    "__Дано__: целое число.\n",
    "\n",
    "__Задание__: написать программу, которая перемножит все цифры заданного числа (0 - исключить).\n",
    "\n",
    "__Примеры__: 1) value = 123405, результат = 120 2) value = 999, результат = 729 3) value = 1000, результат = 1 4) value = 1111, результат = 1"
   ]
  },
  {
   "cell_type": "code",
   "execution_count": 25,
   "id": "97748223",
   "metadata": {},
   "outputs": [
    {
     "name": "stdout",
     "output_type": "stream",
     "text": [
      "123405\n"
     ]
    },
    {
     "data": {
      "text/plain": [
       "120"
      ]
     },
     "execution_count": 25,
     "metadata": {},
     "output_type": "execute_result"
    }
   ],
   "source": [
    "number = int(input())\n",
    "mult = 1\n",
    "\n",
    "digits_without_0 = list(filter((0).__ne__, list(map(int, list(str(number))))))\n",
    "for i in digits_without_0:\n",
    "    mult *= i\n",
    "mult"
   ]
  }
 ],
 "metadata": {
  "kernelspec": {
   "display_name": "Python 3 (ipykernel)",
   "language": "python",
   "name": "python3"
  },
  "language_info": {
   "codemirror_mode": {
    "name": "ipython",
    "version": 3
   },
   "file_extension": ".py",
   "mimetype": "text/x-python",
   "name": "python",
   "nbconvert_exporter": "python",
   "pygments_lexer": "ipython3",
   "version": "3.10.8"
  }
 },
 "nbformat": 4,
 "nbformat_minor": 5
}
