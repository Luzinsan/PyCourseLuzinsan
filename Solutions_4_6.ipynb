{
 "cells": [
  {
   "cell_type": "markdown",
   "id": "3d4d1a1a",
   "metadata": {},
   "source": [
    "#### 1. Среднее\n",
    "Дано: 3 случайных числа.\n",
    "\n",
    "Задание: написать программу, которая будет вычислять среднее значение этих чисел.\n",
    "\n",
    "Пример: (52 + 56 + 60) / 3 = 56"
   ]
  },
  {
   "cell_type": "code",
   "execution_count": 101,
   "id": "f962be82",
   "metadata": {},
   "outputs": [
    {
     "name": "stdout",
     "output_type": "stream",
     "text": [
      "Random numbers:\n",
      "rand_1=166.85191471451162\n",
      "rand_2=2.425136178304316\n",
      "rand_3=70.6619529014204\n",
      "The arithmetic mean of three values is  79.97966793141211\n"
     ]
    }
   ],
   "source": [
    "import random\n",
    "rand_1, rand_2, rand_3 = [random.random()*(1000**random.random()) for i in range(3)]\n",
    "print(f\"Random numbers:\\n{rand_1=}\\n{rand_2=}\\n{rand_3=}\")\n",
    "print(\"The arithmetic mean of three values is \", (rand_1+rand_2+rand_3)/3)"
   ]
  },
  {
   "cell_type": "markdown",
   "id": "6bb14178",
   "metadata": {},
   "source": [
    "#### 2. Деление и еще раз деление¶\n",
    "Дано: 2 случайных числа.\n",
    "\n",
    "Задание: написать программу, которая будет печатать результат целочисленного деления этих чисел, а также остаток от деления первого от второго.\n",
    "\n",
    "Пример:\n",
    " x = 177 и y = 10\n",
    "\n",
    "Результат:\n",
    " 17, 7"
   ]
  },
  {
   "cell_type": "code",
   "execution_count": 99,
   "id": "23c6316f",
   "metadata": {},
   "outputs": [
    {
     "name": "stdout",
     "output_type": "stream",
     "text": [
      "Random numbers:\n",
      "rand_1=120.78995452696626\n",
      "rand_2=4.172134123393656\n",
      "Result of integer division of the first number by the second: 28.0\n",
      "Result of division with the remainder of the first number by the second: 3.970199071943888\n"
     ]
    }
   ],
   "source": [
    "import random\n",
    "rand_1, rand_2 = [random.random()*(1000**random.random()) for i in range(2)]\n",
    "print(f\"Random numbers:\\n{rand_1=}\\n{rand_2=}\")\n",
    "print(f\"Result of integer division of the first number by the second: {rand_1//rand_2}\")\n",
    "print(f\"Result of division with the remainder of the first number by the second: {rand_1%rand_2}\")"
   ]
  },
  {
   "cell_type": "markdown",
   "id": "7a0a0339",
   "metadata": {},
   "source": [
    "#### 3. Округление\n",
    "Дано: число с плавающей точкой.\n",
    "Задание: написать программу, которая будет округлять заданное число:\n",
    "\n",
    "2х знаков после запятой;\n",
    "до целого;\n",
    "дополнять слева столько нулей, сколько не хватает числу до 11 знаков.\n",
    "\n",
    "Пример:\n",
    "x = 14.721\n",
    "\n",
    "14.72\n",
    "15\n",
    "0000014.721"
   ]
  },
  {
   "cell_type": "code",
   "execution_count": 107,
   "id": "b037d33f",
   "metadata": {},
   "outputs": [
    {
     "name": "stdout",
     "output_type": "stream",
     "text": [
      "14.72\n",
      "15\n",
      "0000014.721\n"
     ]
    }
   ],
   "source": [
    "float_number = 14.721\n",
    "print(f\"{float_number:.2f}\\n\"\n",
    "     f\"{round(float_number)}\\n\"\n",
    "     f\"{float_number:011}\")"
   ]
  }
 ],
 "metadata": {
  "kernelspec": {
   "display_name": "Python 3 (ipykernel)",
   "language": "python",
   "name": "python3"
  },
  "language_info": {
   "codemirror_mode": {
    "name": "ipython",
    "version": 3
   },
   "file_extension": ".py",
   "mimetype": "text/x-python",
   "name": "python",
   "nbconvert_exporter": "python",
   "pygments_lexer": "ipython3",
   "version": "3.10.8"
  }
 },
 "nbformat": 4,
 "nbformat_minor": 5
}
