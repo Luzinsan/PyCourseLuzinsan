{
 "cells": [
  {
   "cell_type": "markdown",
   "id": "3d4d1a1a",
   "metadata": {},
   "source": [
    "#### 1. Среднее\n",
    "Дано: 3 случайных числа.\n",
    "\n",
    "Задание: написать программу, которая будет вычислять среднее значение этих чисел.\n",
    "\n",
    "Пример: (52 + 56 + 60) / 3 = 56"
   ]
  },
  {
   "cell_type": "code",
   "execution_count": 101,
   "id": "f962be82",
   "metadata": {},
   "outputs": [
    {
     "name": "stdout",
     "output_type": "stream",
     "text": [
      "Random numbers:\n",
      "rand_1=166.85191471451162\n",
      "rand_2=2.425136178304316\n",
      "rand_3=70.6619529014204\n",
      "The arithmetic mean of three values is  79.97966793141211\n"
     ]
    }
   ],
   "source": [
    "import random\n",
    "rand_1, rand_2, rand_3 = [random.random()*(1000**random.random()) for i in range(3)]\n",
    "print(f\"Random numbers:\\n{rand_1=}\\n{rand_2=}\\n{rand_3=}\")\n",
    "print(\"The arithmetic mean of three values is \", (rand_1+rand_2+rand_3)/3)"
   ]
  },
  {
   "cell_type": "markdown",
   "id": "6bb14178",
   "metadata": {},
   "source": [
    "#### 2. Деление и еще раз деление¶\n",
    "Дано: 2 случайных числа.\n",
    "\n",
    "Задание: написать программу, которая будет печатать результат целочисленного деления этих чисел, а также остаток от деления первого от второго.\n",
    "\n",
    "Пример:\n",
    " x = 177 и y = 10\n",
    "\n",
    "Результат:\n",
    " 17, 7"
   ]
  },
  {
   "cell_type": "code",
   "execution_count": 99,
   "id": "23c6316f",
   "metadata": {},
   "outputs": [
    {
     "name": "stdout",
     "output_type": "stream",
     "text": [
      "Random numbers:\n",
      "rand_1=120.78995452696626\n",
      "rand_2=4.172134123393656\n",
      "Result of integer division of the first number by the second: 28.0\n",
      "Result of division with the remainder of the first number by the second: 3.970199071943888\n"
     ]
    }
   ],
   "source": [
    "import random\n",
    "rand_1, rand_2 = [random.random()*(1000**random.random()) for i in range(2)]\n",
    "print(f\"Random numbers:\\n{rand_1=}\\n{rand_2=}\")\n",
    "print(f\"Result of integer division of the first number by the second: {rand_1//rand_2}\")\n",
    "print(f\"Result of division with the remainder of the first number by the second: {rand_1%rand_2}\")"
   ]
  },
  {
   "cell_type": "markdown",
   "id": "7a0a0339",
   "metadata": {},
   "source": [
    "#### 3. Округление\n",
    "Дано: число с плавающей точкой.\n",
    "Задание: написать программу, которая будет округлять заданное число:\n",
    "\n",
    "2х знаков после запятой;\n",
    "до целого;\n",
    "дополнять слева столько нулей, сколько не хватает числу до 11 знаков.\n",
    "\n",
    "Пример:\n",
    "x = 14.721\n",
    "\n",
    "14.72\n",
    "15\n",
    "0000014.721"
   ]
  },
  {
   "cell_type": "code",
   "execution_count": 107,
   "id": "b037d33f",
   "metadata": {},
   "outputs": [
    {
     "name": "stdout",
     "output_type": "stream",
     "text": [
      "14.72\n",
      "15\n",
      "0000014.721\n"
     ]
    }
   ],
   "source": [
    "float_number = 14.721\n",
    "print(f\"{float_number:.2f}\\n\"\n",
    "     f\"{round(float_number)}\\n\"\n",
    "     f\"{float_number:011}\")"
   ]
  },
  {
   "cell_type": "markdown",
   "id": "830545cb",
   "metadata": {},
   "source": [
    "#### 4. Число \"наоборот\"\n",
    "__Дано__: целое число (int).\n",
    "\n",
    "__Задание__: написать программу, которая будет инвертировать целое число\n",
    "\n",
    "__Пример__:\n",
    "\n",
    "1) x = 123 -> 321 2) x = -325 -> -523 3) x = 0 -> 0"
   ]
  },
  {
   "cell_type": "code",
   "execution_count": null,
   "id": "24cc8d68",
   "metadata": {},
   "outputs": [],
   "source": [
    "x = -325\n",
    "\n",
    "def inverse(number):\n",
    "    sign = 1\n",
    "    if number < 0:\n",
    "        sign = -1\n",
    "    digits = list(map(int, list(str(abs(number)))))\n",
    "    digits.reverse()\n",
    "    digits[0] *= sign\n",
    "    return int(\"\".join(list(map(str, digits))))\n",
    "\n",
    "print(inverse(x))"
   ]
  },
  {
   "cell_type": "markdown",
   "id": "3d73b40b",
   "metadata": {},
   "source": [
    "#### 5. Число \"наоборот\" (усложненное)\n",
    "__Дано__: целое число (int).\n",
    "\n",
    "__Задание__: написать программу, которая будет инвертировать целое число. Если инвертированное число выходит за границы (32-bit integer)\n",
    "\n",
    "__Пример__:\n",
    "\n",
    "1) x = 123 -> 321 2) x = -325 -> -523 3) x = 0 -> 0 4) x = 1563847412 -> 0"
   ]
  },
  {
   "cell_type": "code",
   "execution_count": 4,
   "id": "8fccee00",
   "metadata": {},
   "outputs": [
    {
     "name": "stdout",
     "output_type": "stream",
     "text": [
      "1563847412\n",
      "[1, 5, 6, 3, 8, 4, 7, 4, 1, 2]\n",
      "[2, 1, 4, 7, 4, 8, 3, 6, 5, 1]\n"
     ]
    },
    {
     "ename": "TypeError",
     "evalue": "int() argument must be a string, a bytes-like object or a real number, not 'list'",
     "output_type": "error",
     "traceback": [
      "\u001b[1;31m---------------------------------------------------------------------------\u001b[0m",
      "\u001b[1;31mTypeError\u001b[0m                                 Traceback (most recent call last)",
      "Cell \u001b[1;32mIn [4], line 7\u001b[0m\n\u001b[0;32m      5\u001b[0m digits\u001b[38;5;241m.\u001b[39mreverse()\n\u001b[0;32m      6\u001b[0m \u001b[38;5;28mprint\u001b[39m(digits)\n\u001b[1;32m----> 7\u001b[0m \u001b[38;5;28;01mif\u001b[39;00m \u001b[38;5;28;43mint\u001b[39;49m\u001b[43m(\u001b[49m\u001b[43mdigits\u001b[49m\u001b[43m)\u001b[49m\u001b[38;5;241m.\u001b[39mbit_length() \u001b[38;5;241m<\u001b[39m \u001b[38;5;241m31\u001b[39m:\n\u001b[0;32m      8\u001b[0m     \u001b[38;5;28mprint\u001b[39m(inverse(x))\n\u001b[0;32m      9\u001b[0m \u001b[38;5;28;01melse\u001b[39;00m: \u001b[38;5;28mprint\u001b[39m(\u001b[38;5;241m0\u001b[39m)\n",
      "\u001b[1;31mTypeError\u001b[0m: int() argument must be a string, a bytes-like object or a real number, not 'list'"
     ]
    }
   ],
   "source": [
    "x = 1563847412\n",
    "digits = list(map(int, list(str(abs(x)))))\n",
    "print(x)\n",
    "print(digits)\n",
    "digits.reverse()\n",
    "print(digits)\n",
    "str_digits = [i for i in digits]\n",
    "if int(digits).bit_length() < 31:\n",
    "    print(inverse(x))\n",
    "else: print(0)"
   ]
  }
 ],
 "metadata": {
  "kernelspec": {
   "display_name": "Python 3 (ipykernel)",
   "language": "python",
   "name": "python3"
  },
  "language_info": {
   "codemirror_mode": {
    "name": "ipython",
    "version": 3
   },
   "file_extension": ".py",
   "mimetype": "text/x-python",
   "name": "python",
   "nbconvert_exporter": "python",
   "pygments_lexer": "ipython3",
   "version": "3.10.8"
  }
 },
 "nbformat": 4,
 "nbformat_minor": 5
}
